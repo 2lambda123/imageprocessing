{
 "cells": [
  {
   "cell_type": "markdown",
   "metadata": {},
   "source": [
    "# Batch Processing Example\n",
    "\n",
    "In this example, we use the `micasense.imageset` class to load a set of directories of images into a list of `micasense.capture` objects, and we iterate over that list saving out each image as an aligned stack of images as separate bands in a single tiff file each. Next, we use the metadata from the original captures to write out a log file of the captures and their locations.  Finally, we use `exiftool` from the command line to inject that metadata into the processed images, allowing us to stitch those images using commercial software such as Pix4D or Agisoft.\n",
    "\n",
    "Note: for this example to work, the images must have a valid RigRelatives tag. This requires RedEdge version of at least 3.4.0 or any version of Altum.  If your images don't meet that spec, you can also follow this support ticket to add the RigRelatives tag to them: https://support.micasense.com/hc/en-us/articles/360006368574-Modifying-older-collections-for-Pix4Dfields-support"
   ]
  },
  {
   "cell_type": "code",
   "execution_count": null,
   "metadata": {},
   "outputs": [],
   "source": [
    "%load_ext autoreload\n",
    "%autoreload 2"
   ]
  },
  {
   "cell_type": "markdown",
   "metadata": {},
   "source": [
    "## Load Images into ImageSet"
   ]
  },
  {
   "cell_type": "code",
   "execution_count": null,
   "metadata": {},
   "outputs": [],
   "source": [
    "from ipywidgets import FloatProgress, Layout\n",
    "from IPython.display import display\n",
    "import micasense.imageset as imageset\n",
    "import micasense.capture\n",
    "import os, glob\n",
    "import multiprocessing\n",
    "\n",
    "try:\n",
    "    multiprocessing.set_start_method('spawn')\n",
    "except RuntimeError:\n",
    "    pass\n",
    "\n",
    "images_dir = os.path.expanduser(os.path.join('~','Downloads','RedEdgeImageSet','0000SET'))\n",
    "\n",
    "panelNames = glob.glob(os.path.join(images_dir,'000','IMG_0000_*.tif'))\n",
    "panelCap = micasense.capture.Capture.from_filelist(panelNames)\n",
    "\n",
    "panel_reflectance_by_band = [0.67, 0.69, 0.68, 0.61, 0.67] #RedEdge band_index order\n",
    "panel_irradiance = panelCap.panel_irradiance(panel_reflectance_by_band)\n",
    "\n",
    "if panelCap.panels_in_all_expected_images():\n",
    "    panel_irradiance = panelCap.panel_irradiance(panel_irradiance)\n",
    "else:\n",
    "    raise ValueError(\"Panels not detected in all images\")\n",
    "\n"
   ]
  },
  {
   "cell_type": "code",
   "execution_count": null,
   "metadata": {},
   "outputs": [],
   "source": [
    "## This progress widget is used for display of the long-running process\n",
    "f = FloatProgress(min=0, max=1, step=0.01, layout=Layout(width='100%'), description=\"Loading\")\n",
    "display(f)\n",
    "def update_f(val):\n",
    "    f.value=val\n",
    "\n",
    "%time imgset = imageset.ImageSet.from_directory(images_dir, progress_callback=update_f)\n",
    "update_f(1.0)"
   ]
  },
  {
   "cell_type": "markdown",
   "metadata": {},
   "source": [
    "## Align images and save each capture to a layered tiff file"
   ]
  },
  {
   "cell_type": "code",
   "execution_count": null,
   "metadata": {},
   "outputs": [],
   "source": [
    "import exiftool\n",
    "import datetime\n",
    "## This progress widget is used for display of the long-running process\n",
    "f2 = FloatProgress(min=0, max=1, step=0.01, layout=Layout(width='100%'), description=\"Saving\")\n",
    "display(f2)\n",
    "def update_f2(val):\n",
    "    f2.value=val\n",
    "\n",
    "outputPath = os.path.join(imgset.basedir,'..','stacks')\n",
    "if not os.path.exists(outputPath):\n",
    "    os.makedirs(outputPath)\n",
    "\n",
    "overwrite = False\n",
    "try:\n",
    "    irradiance = panel_irradiance+[0]\n",
    "except NameError:\n",
    "    irradiance = None\n",
    "\n",
    "start = datetime.datetime.now()\n",
    "for i,capture in enumerate(imgset.captures):\n",
    "    outputFilename = capture.uuid+'.tif'\n",
    "    fullOutputPath = os.path.join(outputPath, outputFilename)\n",
    "    if (not os.path.exists(fullOutputPath)) or overwrite:\n",
    "        capture.save_capture_as_reflectance_stack(fullOutputPath, irradiance_list=irradiance)\n",
    "    capture.clear_image_data()\n",
    "    update_f2(float(i)/float(len(imgset.captures)))\n",
    "update_f2(1.0)\n",
    "end = datetime.datetime.now()\n",
    "\n",
    "print(\"Saving time: {}\".format(end-start))\n",
    "print(\"Alignment+Saving rate: {:.2f} images per second\".format(float(len(imgset.captures))/float((end-start).total_seconds())))"
   ]
  },
  {
   "cell_type": "markdown",
   "metadata": {},
   "source": [
    "## Extract Metadata from Captures list and save to log.csv"
   ]
  },
  {
   "cell_type": "code",
   "execution_count": null,
   "metadata": {},
   "outputs": [],
   "source": [
    "def decdeg2dms(dd):\n",
    "   is_positive = dd >= 0\n",
    "   dd = abs(dd)\n",
    "   minutes,seconds = divmod(dd*3600,60)\n",
    "   degrees,minutes = divmod(minutes,60)\n",
    "   degrees = degrees if is_positive else -degrees\n",
    "   return (degrees,minutes,seconds)\n",
    "\n",
    "header = \"SourceFile,\\\n",
    "GPSDateStamp,GPSTimeStamp,\\\n",
    "GPSLatitude,GpsLatitudeRef,\\\n",
    "GPSLongitude,GPSLongitudeRef,\\\n",
    "GPSAltitude,GPSAltitudeRef,\\\n",
    "FocalLength,\\\n",
    "XResolution,YResolution,ResolutionUnits\\n\"\n",
    "\n",
    "lines = [header]\n",
    "for capture in imgset.captures:\n",
    "    #get lat,lon,alt,time\n",
    "    outputFilename = capture.uuid+'.tif'\n",
    "    fullOutputPath = os.path.join(outputPath, outputFilename)\n",
    "    lat,lon,alt = capture.location()\n",
    "    #write to csv in format:\n",
    "    # IMG_0199_1.tif,\"33 deg 32' 9.73\"\" N\",\"111 deg 51' 1.41\"\" W\",526 m Above Sea Level\n",
    "    latdeg, latmin, latsec = decdeg2dms(lat)\n",
    "    londeg, lonmin, lonsec = decdeg2dms(lon)\n",
    "    latdir = 'North'\n",
    "    if latdeg < 0:\n",
    "        latdeg = -latdeg\n",
    "        latdir = 'South'\n",
    "    londir = 'East'\n",
    "    if londeg < 0:\n",
    "        londeg = -londeg\n",
    "        londir = 'West'\n",
    "    resolution = capture.images[0].focal_plane_resolution_px_per_mm\n",
    "\n",
    "    linestr = '\"{}\",'.format(fullOutputPath)\n",
    "    linestr += capture.utc_time().strftime(\"%Y:%m:%d,%H:%M:%S,\")\n",
    "    linestr += '\"{:d} deg {:d}\\' {:.2f}\"\" {}\",{},'.format(int(latdeg),int(latmin),latsec,latdir[0],latdir)\n",
    "    linestr += '\"{:d} deg {:d}\\' {:.2f}\"\" {}\",{},{:.1f} m Above Sea Level,Above Sea Level,'.format(int(londeg),int(lonmin),lonsec,londir[0],londir,alt)\n",
    "    linestr += '{}'.format(capture.images[0].focal_length)\n",
    "    linestr += '{},{},mm'.format(resolution,resolution)\n",
    "    linestr += '\\n' # when writing in text mode, the write command will convert to os.linesep\n",
    "    lines.append(linestr)\n",
    "\n",
    "fullCsvPath = os.path.join(outputPath,'log.csv')\n",
    "with open(fullCsvPath, 'w') as csvfile: #create CSV\n",
    "    csvfile.writelines(lines)"
   ]
  },
  {
   "cell_type": "markdown",
   "metadata": {},
   "source": [
    "## Use Exiftool from the command line to write metadata to images"
   ]
  },
  {
   "cell_type": "code",
   "execution_count": null,
   "metadata": {},
   "outputs": [],
   "source": [
    "import subprocess\n",
    "\n",
    "old_dir = os.getcwd()\n",
    "os.chdir(outputPath)\n",
    "cmd = 'exiftool -csv=\"{}\" -overwrite_original .'.format(fullCsvPath)\n",
    "print(cmd)\n",
    "try:\n",
    "    subprocess.check_call(cmd)\n",
    "finally:\n",
    "    os.chdir(old_dir)"
   ]
  }
 ],
 "metadata": {
  "kernelspec": {
   "display_name": "Python 3",
   "language": "python",
   "name": "python3"
  },
  "language_info": {
   "codemirror_mode": {
    "name": "ipython",
    "version": 3
   },
   "file_extension": ".py",
   "mimetype": "text/x-python",
   "name": "python",
   "nbconvert_exporter": "python",
   "pygments_lexer": "ipython3",
   "version": "3.6.5"
  }
 },
 "nbformat": 4,
 "nbformat_minor": 2
}
